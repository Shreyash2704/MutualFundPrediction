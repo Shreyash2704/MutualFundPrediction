{
 "cells": [
  {
   "cell_type": "code",
   "execution_count": 1,
   "id": "polar-duncan",
   "metadata": {},
   "outputs": [],
   "source": [
    "import pandas as pd\n",
    "import matplotlib.pyplot as plt\n",
    "import numpy as np\n"
   ]
  },
  {
   "cell_type": "code",
   "execution_count": 2,
   "id": "surgical-protocol",
   "metadata": {},
   "outputs": [],
   "source": [
    "def DateOptimizer(data):\n",
    "    df = data\n",
    "    l = list(df[\"NAV_DATE\"])\n",
    "    month = ['Jan','Feb','Mar','Apr','May','Jun','Jul','Aug','Sep','Oct','Nov','Dec']\n",
    "    c = 0\n",
    "    newl = []\n",
    "    for i in l:\n",
    "        m = i.split(\"-\")\n",
    "        m[1] = str(month.index(m[1])+1)\n",
    "        m = m[::-1]\n",
    "        s = \"-\".join(m)\n",
    "        newl.append(s)\n",
    "    df[\"NAV_DATE\"] = newl\n",
    "    return df"
   ]
  },
  {
   "cell_type": "code",
   "execution_count": 16,
   "id": "automatic-latex",
   "metadata": {},
   "outputs": [],
   "source": [
    "def reverseDataFrame(data):\n",
    "    Scheme = data[\"FundName\"].tolist()\n",
    "    NAV = data[\"NAV\"].tolist()\n",
    "    date = data[\"NAV_DATE\"].tolist()\n",
    "    newdf = pd.DataFrame()\n",
    "    newdf[\"SchemeName\"] = Scheme[::-1]\n",
    "    newdf[\"NAV\"] = NAV[::-1]\n",
    "    newdf[\"NAV_DATE\"] = date[::-1]\n",
    "    return newdf"
   ]
  },
  {
   "cell_type": "code",
   "execution_count": null,
   "id": "voluntary-commission",
   "metadata": {},
   "outputs": [],
   "source": []
  },
  {
   "cell_type": "code",
   "execution_count": 28,
   "id": "severe-contract",
   "metadata": {},
   "outputs": [],
   "source": [
    "def OptimiseDataframe(df):\n",
    "    newdf = df[[\"FundName\",\"NAV_DATE\",\"NAV\"]].copy(deep=True)\n",
    "    return newdf"
   ]
  },
  {
   "cell_type": "code",
   "execution_count": null,
   "id": "documented-encoding",
   "metadata": {},
   "outputs": [],
   "source": []
  },
  {
   "cell_type": "code",
   "execution_count": 30,
   "id": "plastic-necessity",
   "metadata": {},
   "outputs": [],
   "source": [
    "def ConvertDateintoDay_Month_Year(df):\n",
    "    df.NAV_DATE = pd.to_datetime(df.NAV_DATE)\n",
    "    df[\"day\"] = df.NAV_DATE.dt.day\n",
    "    df[\"month\"] = df.NAV_DATE.dt.month\n",
    "    df[\"year\"] = df.NAV_DATE.dt.year\n",
    "    "
   ]
  },
  {
   "cell_type": "code",
   "execution_count": 35,
   "id": "furnished-retreat",
   "metadata": {},
   "outputs": [],
   "source": [
    "s1 = pd.read_csv(\"./dataset/SBI Equity Hybrid Fund.csv\")"
   ]
  },
  {
   "cell_type": "code",
   "execution_count": null,
   "id": "caring-monster",
   "metadata": {},
   "outputs": [],
   "source": []
  },
  {
   "cell_type": "code",
   "execution_count": null,
   "id": "monetary-fight",
   "metadata": {},
   "outputs": [],
   "source": []
  },
  {
   "cell_type": "code",
   "execution_count": null,
   "id": "filled-junction",
   "metadata": {},
   "outputs": [],
   "source": []
  }
 ],
 "metadata": {
  "kernelspec": {
   "display_name": "Python 3",
   "language": "python",
   "name": "python3"
  },
  "language_info": {
   "codemirror_mode": {
    "name": "ipython",
    "version": 3
   },
   "file_extension": ".py",
   "mimetype": "text/x-python",
   "name": "python",
   "nbconvert_exporter": "python",
   "pygments_lexer": "ipython3",
   "version": "3.8.8"
  }
 },
 "nbformat": 4,
 "nbformat_minor": 5
}
