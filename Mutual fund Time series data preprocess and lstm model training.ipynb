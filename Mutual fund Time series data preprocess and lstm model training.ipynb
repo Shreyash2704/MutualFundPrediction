{
 "cells": [
  {
   "cell_type": "code",
   "execution_count": 18,
   "id": "naughty-operation",
   "metadata": {},
   "outputs": [
    {
     "name": "stdout",
     "output_type": "stream",
     "text": [
      "           Date         Nav\n",
      "0    2019-10-22   98.988098\n",
      "1    2019-10-23   99.232201\n",
      "2    2019-10-24   98.834297\n",
      "3    2019-10-25   98.805298\n",
      "5    2019-10-29  100.264999\n",
      "..          ...         ...\n",
      "742  2022-10-14  174.283997\n",
      "743  2022-10-17  175.086807\n",
      "744  2022-10-18  176.881500\n",
      "745  2022-10-19  177.402893\n",
      "746  2022-10-20  178.213593\n",
      "\n",
      "[744 rows x 2 columns]\n"
     ]
    }
   ],
   "source": [
    "import pandas as pd\n",
    "import matplotlib.pyplot as plt\n",
    "import numpy as np\n",
    "import os\n",
    "\n",
    "from sklearn import preprocessing, svm\n",
    "from sklearn.model_selection import train_test_split\n",
    "from sklearn.linear_model import LinearRegression\n",
    "from sklearn.ensemble import RandomForestRegressor\n",
    "from sklearn.svm import SVR\n",
    "from sklearn.preprocessing import StandardScaler\n",
    "from sklearn.pipeline import Pipeline\n",
    "from sklearn.model_selection import train_test_split\n",
    "from sklearn.metrics import mean_absolute_error\n",
    "\n",
    "def OptimiseDataframe(df):\n",
    "    newdf = pd.DataFrame()\n",
    "    newdf[\"Date\"] = df.Date\n",
    "    newdf[\"Nav\"] = df.Open\n",
    "    newdf = newdf.dropna()\n",
    "    return newdf\n",
    "\n",
    "directory =  os.path.join(os.getcwd(),\"dataset\")\n",
    "file = r\"SBI Large & Midcap Fund.csv\"\n",
    "df = pd.read_csv(os.path.join(directory,file))\n",
    "newdf = OptimiseDataframe(df)\n",
    "print(newdf)\n",
    "\n",
    "data = pd.DataFrame()\n",
    "\n",
    "for i in range(60):\n",
    "    name = \"close_price_\"+str(i+1)\n",
    "    data[name] = newdf['Nav'].shift(i+1)\n",
    "    \n",
    "data[\"Nav\"] = newdf[\"Nav\"]\n",
    "data = data[60::]"
   ]
  },
  {
   "cell_type": "code",
   "execution_count": 37,
   "id": "abroad-novel",
   "metadata": {},
   "outputs": [],
   "source": [
    "import tensorflow as tf\n",
    "from tensorflow import keras\n",
    "from tensorflow.keras import layers"
   ]
  },
  {
   "cell_type": "code",
   "execution_count": 36,
   "id": "tight-ambassador",
   "metadata": {},
   "outputs": [
    {
     "ename": "ValueError",
     "evalue": "cannot reshape array of size 684 into shape (60,)",
     "output_type": "error",
     "traceback": [
      "\u001b[1;31m---------------------------------------------------------------------------\u001b[0m",
      "\u001b[1;31mValueError\u001b[0m                                Traceback (most recent call last)",
      "\u001b[1;32m<ipython-input-36-f408f2b53d40>\u001b[0m in \u001b[0;36m<module>\u001b[1;34m\u001b[0m\n\u001b[0;32m      1\u001b[0m \u001b[0mtimesteps\u001b[0m \u001b[1;33m=\u001b[0m \u001b[1;36m60\u001b[0m\u001b[1;33m\u001b[0m\u001b[1;33m\u001b[0m\u001b[0m\n\u001b[0;32m      2\u001b[0m \u001b[0mnew_data\u001b[0m \u001b[1;33m=\u001b[0m \u001b[0mdata\u001b[0m\u001b[1;33m[\u001b[0m\u001b[1;34m\"Nav\"\u001b[0m\u001b[1;33m]\u001b[0m\u001b[1;33m.\u001b[0m\u001b[0mvalues\u001b[0m\u001b[1;33m\u001b[0m\u001b[1;33m\u001b[0m\u001b[0m\n\u001b[1;32m----> 3\u001b[1;33m \u001b[0mnew_data\u001b[0m\u001b[1;33m.\u001b[0m\u001b[0mreshape\u001b[0m\u001b[1;33m(\u001b[0m\u001b[1;36m60\u001b[0m\u001b[1;33m)\u001b[0m\u001b[1;33m\u001b[0m\u001b[1;33m\u001b[0m\u001b[0m\n\u001b[0m",
      "\u001b[1;31mValueError\u001b[0m: cannot reshape array of size 684 into shape (60,)"
     ]
    }
   ],
   "source": [
    "timesteps = 60\n",
    "new_data = data[\"Nav\"].values\n",
    "new_data.reshape(60)"
   ]
  },
  {
   "cell_type": "code",
   "execution_count": 50,
   "id": "existing-rochester",
   "metadata": {},
   "outputs": [],
   "source": [
    "n_steps = 60\n",
    "n_features = 1\n",
    "X = data.drop(columns=[\"Nav\"],axis=1)\n",
    "y = data[\"Nav\"]\n",
    "\n",
    "np_array = X.values\n",
    "X = np_array.reshape((np_array.shape[0], np_array.shape[1], n_features))\n"
   ]
  },
  {
   "cell_type": "code",
   "execution_count": 58,
   "id": "informative-baltimore",
   "metadata": {},
   "outputs": [
    {
     "data": {
      "text/plain": [
       "<tensorflow.python.keras.callbacks.History at 0x283f2b93370>"
      ]
     },
     "execution_count": 58,
     "metadata": {},
     "output_type": "execute_result"
    }
   ],
   "source": [
    "model = keras.Sequential()\n",
    "model.add(layers.LSTM(50, activation='relu', input_shape=(n_steps, n_features)))\n",
    "model.add(layers.Dense(1))\n",
    "model.compile(optimizer='adam', loss='mse')\n",
    "\n",
    "model.fit(X, y, epochs=200, verbose=0)"
   ]
  },
  {
   "cell_type": "code",
   "execution_count": 89,
   "id": "pleasant-ground",
   "metadata": {},
   "outputs": [],
   "source": [
    "X_test = X[((len(X)//100)*70)::]\n",
    "y_test = y[((len(X)//100)*70)::]"
   ]
  },
  {
   "cell_type": "code",
   "execution_count": 66,
   "id": "crude-print",
   "metadata": {},
   "outputs": [
    {
     "name": "stdout",
     "output_type": "stream",
     "text": [
      "[[155.04358]]\n"
     ]
    }
   ],
   "source": [
    "x_input = X[602]\n",
    "x_input = x_input.reshape((1, n_steps, n_features))\n",
    "yhat = model.predict(x_input, verbose=0)\n",
    "print(yhat)"
   ]
  },
  {
   "cell_type": "code",
   "execution_count": 90,
   "id": "established-tiger",
   "metadata": {},
   "outputs": [
    {
     "name": "stdout",
     "output_type": "stream",
     "text": [
      "9/9 [==============================] - 1s 71ms/step - loss: 31.7843\n"
     ]
    },
    {
     "ename": "TypeError",
     "evalue": "cannot unpack non-iterable float object",
     "output_type": "error",
     "traceback": [
      "\u001b[1;31m---------------------------------------------------------------------------\u001b[0m",
      "\u001b[1;31mTypeError\u001b[0m                                 Traceback (most recent call last)",
      "\u001b[1;32m<ipython-input-90-b5e1eef44533>\u001b[0m in \u001b[0;36m<module>\u001b[1;34m\u001b[0m\n\u001b[1;32m----> 1\u001b[1;33m \u001b[0mtest_loss\u001b[0m\u001b[1;33m,\u001b[0m \u001b[0mtest_accuracy\u001b[0m \u001b[1;33m=\u001b[0m \u001b[0mmodel\u001b[0m\u001b[1;33m.\u001b[0m\u001b[0mevaluate\u001b[0m\u001b[1;33m(\u001b[0m\u001b[0mX_test\u001b[0m\u001b[1;33m,\u001b[0m \u001b[0my_test\u001b[0m\u001b[1;33m)\u001b[0m\u001b[1;33m\u001b[0m\u001b[1;33m\u001b[0m\u001b[0m\n\u001b[0m\u001b[0;32m      2\u001b[0m \u001b[1;33m\u001b[0m\u001b[0m\n\u001b[0;32m      3\u001b[0m \u001b[0mprint\u001b[0m\u001b[1;33m(\u001b[0m\u001b[1;34m'Test Loss:'\u001b[0m\u001b[1;33m,\u001b[0m \u001b[0mtest_loss\u001b[0m\u001b[1;33m)\u001b[0m\u001b[1;33m\u001b[0m\u001b[1;33m\u001b[0m\u001b[0m\n\u001b[0;32m      4\u001b[0m \u001b[0mprint\u001b[0m\u001b[1;33m(\u001b[0m\u001b[1;34m'Test Accuracy:'\u001b[0m\u001b[1;33m,\u001b[0m \u001b[0mtest_accuracy\u001b[0m\u001b[1;33m)\u001b[0m\u001b[1;33m\u001b[0m\u001b[1;33m\u001b[0m\u001b[0m\n",
      "\u001b[1;31mTypeError\u001b[0m: cannot unpack non-iterable float object"
     ]
    }
   ],
   "source": [
    "test_loss, test_accuracy = model.evaluate(X_test, y_test)\n",
    "\n",
    "print('Test Loss:', test_loss)\n",
    "print('Test Accuracy:', test_accuracy)"
   ]
  },
  {
   "cell_type": "code",
   "execution_count": 93,
   "id": "irish-rogers",
   "metadata": {},
   "outputs": [
    {
     "name": "stdout",
     "output_type": "stream",
     "text": [
      "9/9 [==============================] - 0s 6ms/step - loss: 31.7843\n"
     ]
    },
    {
     "data": {
      "text/plain": [
       "31.784286499023438"
      ]
     },
     "execution_count": 93,
     "metadata": {},
     "output_type": "execute_result"
    }
   ],
   "source": [
    "model.evaluate(X_test, y_test)"
   ]
  },
  {
   "cell_type": "code",
   "execution_count": 80,
   "id": "compound-samuel",
   "metadata": {},
   "outputs": [
    {
     "data": {
      "text/plain": [
       "5880"
      ]
     },
     "execution_count": 80,
     "metadata": {},
     "output_type": "execute_result"
    }
   ],
   "source": [
    "len(X)%100*70"
   ]
  },
  {
   "cell_type": "code",
   "execution_count": 85,
   "id": "patient-crisis",
   "metadata": {},
   "outputs": [
    {
     "data": {
      "text/plain": [
       "6.84"
      ]
     },
     "execution_count": 85,
     "metadata": {},
     "output_type": "execute_result"
    }
   ],
   "source": [
    "len(X)/100"
   ]
  },
  {
   "cell_type": "code",
   "execution_count": null,
   "id": "isolated-theta",
   "metadata": {},
   "outputs": [],
   "source": []
  }
 ],
 "metadata": {
  "kernelspec": {
   "display_name": "Python 3",
   "language": "python",
   "name": "python3"
  },
  "language_info": {
   "codemirror_mode": {
    "name": "ipython",
    "version": 3
   },
   "file_extension": ".py",
   "mimetype": "text/x-python",
   "name": "python",
   "nbconvert_exporter": "python",
   "pygments_lexer": "ipython3",
   "version": "3.8.8"
  }
 },
 "nbformat": 4,
 "nbformat_minor": 5
}
